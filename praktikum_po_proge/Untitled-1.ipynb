{
 "cells": [
  {
   "cell_type": "code",
   "execution_count": 4,
   "metadata": {
    "dotnet_interactive": {
     "language": "csharp"
    },
    "polyglot_notebook": {
     "kernelName": "csharp"
    }
   },
   "outputs": [
    {
     "data": {
      "text/html": [
       "<div class=\"dni-plaintext\"><pre>35.99</pre></div><style>\r\n",
       ".dni-code-hint {\r\n",
       "    font-style: italic;\r\n",
       "    overflow: hidden;\r\n",
       "    white-space: nowrap;\r\n",
       "}\r\n",
       ".dni-treeview {\r\n",
       "    white-space: nowrap;\r\n",
       "}\r\n",
       ".dni-treeview td {\r\n",
       "    vertical-align: top;\r\n",
       "    text-align: start;\r\n",
       "}\r\n",
       "details.dni-treeview {\r\n",
       "    padding-left: 1em;\r\n",
       "}\r\n",
       "table td {\r\n",
       "    text-align: start;\r\n",
       "}\r\n",
       "table tr { \r\n",
       "    vertical-align: top; \r\n",
       "    margin: 0em 0px;\r\n",
       "}\r\n",
       "table tr td pre \r\n",
       "{ \r\n",
       "    vertical-align: top !important; \r\n",
       "    margin: 0em 0px !important;\r\n",
       "} \r\n",
       "table th {\r\n",
       "    text-align: start;\r\n",
       "}\r\n",
       "</style>"
      ]
     },
     "metadata": {},
     "output_type": "display_data"
    }
   ],
   "source": [
    "class TrapezoidalRule \n",
    "{\n",
    "    public static double Solve(Func<double, double> f, double a, double b, double dx) \n",
    "    {\n",
    "        double s = f(a) + f(b);\n",
    "        double n = (b-a)/dx;    \n",
    "        double g = Math.Floor(n);\n",
    "        int v = Convert.ToInt32(g);\n",
    "        var c = Enumerable.Sum(Enumerable.Range(1, v).Select(x =>2*f(a + x * dx)));\n",
    "        c*=dx/2;\n",
    "        return c;\n",
    "    }\n",
    "}\n",
    "\n",
    "Func<double, double> f = (double x) => -x*x + 9;\n",
    "\n",
    "var answ = TrapezoidalRule.Solve(f, -3, 3, 0.1);\n",
    "answ  "
   ]
  },
  {
   "cell_type": "code",
   "execution_count": 3,
   "metadata": {
    "dotnet_interactive": {
     "language": "csharp"
    },
    "polyglot_notebook": {
     "kernelName": "csharp"
    }
   },
   "outputs": [
    {
     "name": "stdout",
     "output_type": "stream",
     "text": [
      "{\r\n",
      "  \"Response\": [\r\n",
      "    {\r\n",
      "      \"Cadet\": \"Cadet1\",\r\n",
      "      \"GPA\": 5\r\n",
      "    },\r\n",
      "    {\r\n",
      "      \"Cadet\": \"Cadet4\",\r\n",
      "      \"GPA\": 5\r\n",
      "    }\r\n",
      "  ]\r\n",
      "}\r\n"
     ]
    }
   ],
   "source": [
    "#r \"Newtonsoft.Json\"\n",
    "using Newtonsoft.Json.Linq;\n",
    "using System.Text.Json;\n",
    "using Newtonsoft.Json;\n",
    "using System.IO;\n",
    "\n",
    "string path = @\"C:\\Users\\bunpdy\\hmm\\test1.json\";\n",
    "// read JSON directly from a file\n",
    "JObject o1 = JObject.Parse(File.ReadAllText(path));\n",
    "\n",
    "JArray array = new JArray();\n",
    "\n",
    "using (StreamReader file = File.OpenText(path))\n",
    "using (JsonTextReader reader = new JsonTextReader(file))\n",
    "{\n",
    "\n",
    "    // find max mark\n",
    "    int MaxMark = o1[\"data\"]\n",
    "    .OrderByDescending(c => c[\"mark\"].Value<int>())        \n",
    "    .Select(c => c[\"mark\"].Value<int>())\n",
    "    .First();\n",
    "    \n",
    "    // sort names by max mark\n",
    "    var persons = o1[\"data\"].Where(c => Convert.ToInt32(c[\"mark\"]) == MaxMark).Select(c => c[\"name\"]).Distinct();\n",
    "\n",
    "    foreach(var element in persons)\n",
    "    {\n",
    "        JObject oz1 = new JObject\n",
    "        {\n",
    "            { \"Cadet\", element.ToString()},\n",
    "            {\"GPA\", MaxMark}\n",
    "        };\n",
    "        array.Add(oz1);\n",
    "    }\n",
    "}\n",
    "\n",
    "JObject o = new JObject();\n",
    "o[\"Response\"] = array;\n",
    "string json = o.ToString();\n",
    "Console.WriteLine(json);"
   ]
  },
  {
   "cell_type": "code",
   "execution_count": 2,
   "metadata": {
    "dotnet_interactive": {
     "language": "csharp"
    },
    "polyglot_notebook": {
     "kernelName": "csharp"
    }
   },
   "outputs": [
    {
     "name": "stdout",
     "output_type": "stream",
     "text": [
      "{\r\n",
      "  \"Response\": [\r\n",
      "    {\r\n",
      "      \"Programming\": 4.25\r\n",
      "    },\r\n",
      "    {\r\n",
      "      \"Algebra\": 4.25\r\n",
      "    }\r\n",
      "  ]\r\n",
      "}\r\n"
     ]
    }
   ],
   "source": [
    "#r \"Newtonsoft.Json\"\n",
    "using Newtonsoft.Json.Linq;\n",
    "using System.Text.Json;\n",
    "using Newtonsoft.Json;\n",
    "using System.IO;\n",
    "\n",
    "JArray array1 = new JArray();\n",
    "string path = @\"C:\\Users\\bunpdy\\hmm\\test2.json\";\n",
    "// read JSON directly from a file\n",
    "JObject o1 = JObject.Parse(File.ReadAllText(path));\n",
    "\n",
    "using (StreamReader file = File.OpenText(path))\n",
    "using (JsonTextReader reader = new JsonTextReader(file))\n",
    "{\n",
    "\n",
    "    var subjects = o1[\"data\"].Select(c => c[\"discipline\"]).Distinct().ToList();\n",
    "    for (int i = 0; i < subjects.Count(); i++)\n",
    "    {\n",
    "        string subject = subjects[i].ToString();\n",
    "        var MarksBySubject = o1[\"data\"].Where(c => c[\"discipline\"].ToString() == subject).Select(c => Convert.ToInt32(c[\"mark\"])).ToList();\n",
    "        double avarage_score = Convert.ToDouble(MarksBySubject.Sum()) / Convert.ToDouble(MarksBySubject.Count);\n",
    "        JObject ozz1 = new JObject\n",
    "        {\n",
    "            {subjects[i].ToString(), avarage_score}\n",
    "        };\n",
    "        array1.Add(ozz1);\n",
    "    }\n",
    "}\n",
    "\n",
    "JObject ok = new JObject();\n",
    "ok[\"Response\"] = array1;\n",
    "string json1 = ok.ToString();\n",
    "Console.WriteLine(json1);\n"
   ]
  },
  {
   "cell_type": "code",
   "execution_count": 1,
   "metadata": {
    "dotnet_interactive": {
     "language": "csharp"
    },
    "polyglot_notebook": {
     "kernelName": "csharp"
    }
   },
   "outputs": [
    {
     "name": "stdout",
     "output_type": "stream",
     "text": [
      "{\r\n",
      "  \"Response\": [\r\n",
      "    {\r\n",
      "      \"SC-992\": 4.5,\r\n",
      "      \"discipline\": \"Programming\"\r\n",
      "    },\r\n",
      "    {\r\n",
      "      \"SC-991\": 4.5,\r\n",
      "      \"discipline\": \"Algebra\"\r\n",
      "    }\r\n",
      "  ]\r\n",
      "}\r\n"
     ]
    }
   ],
   "source": [
    "#r \"Newtonsoft.Json\"\n",
    "using Newtonsoft.Json.Linq;\n",
    "using System.Text.Json;\n",
    "using Newtonsoft.Json;\n",
    "using System.IO;\n",
    "\n",
    "JArray array1 = new JArray();\n",
    "string path = @\"C:\\Users\\bunpdy\\hmm\\test2.json\";\n",
    "// read JSON directly from a file\n",
    "JObject o1 = JObject.Parse(File.ReadAllText(path));\n",
    "\n",
    "using (StreamReader file = File.OpenText(path))\n",
    "using (JsonTextReader reader = new JsonTextReader(file))\n",
    "{\n",
    "    string last_grp = \"\"; \n",
    "    var subjects = o1[\"data\"].Select(c => c[\"discipline\"]).Distinct().ToList();\n",
    "    foreach(var el in subjects)\n",
    "    {\n",
    "        double BestSubjectAvarage = 0;\n",
    "\n",
    "        var groups = o1[\"data\"].Select(c => c[\"group\"]).Distinct().ToList();\n",
    "        foreach(var el1 in groups)\n",
    "        {\n",
    "            string discp = el.ToString();\n",
    "            string grp = el1.ToString();\n",
    "            var MarksBySubject = o1[\"data\"].Where(c => (c[\"discipline\"].ToString() == discp & c[\"group\"].ToString() == grp)).Select(c => Convert.ToDouble(c[\"mark\"]));\n",
    "            double SubjectAvarage = 0;\n",
    "            SubjectAvarage = MarksBySubject.Sum() / Convert.ToDouble(MarksBySubject.Count());\n",
    "            if (SubjectAvarage > BestSubjectAvarage)\n",
    "            {   \n",
    "                last_grp = grp;\n",
    "                BestSubjectAvarage = SubjectAvarage;\n",
    "            }\n",
    "        }\n",
    "        JObject ozz1 = new JObject\n",
    "        {\n",
    "            {last_grp, BestSubjectAvarage},\n",
    "            {\"discipline\", el}\n",
    "        };\n",
    "        array1.Add(ozz1);\n",
    "    }\n",
    "}\n",
    "JObject ok = new JObject();\n",
    "ok[\"Response\"] = array1;\n",
    "string json1 = ok.ToString();\n",
    "Console.WriteLine(json1);\n",
    "\n",
    "\n"
   ]
  }
 ],
 "metadata": {
  "kernelspec": {
   "display_name": ".NET (C#)",
   "language": "C#",
   "name": ".net-csharp"
  },
  "language_info": {
   "name": "polyglot-notebook"
  },
  "polyglot_notebook": {
   "kernelInfo": {
    "defaultKernelName": "csharp",
    "items": [
     {
      "aliases": [],
      "languageName": "csharp",
      "name": "csharp"
     }
    ]
   }
  }
 },
 "nbformat": 4,
 "nbformat_minor": 2
}
