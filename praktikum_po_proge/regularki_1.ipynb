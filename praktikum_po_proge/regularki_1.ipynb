{
 "cells": [
  {
   "cell_type": "code",
   "execution_count": 1,
   "metadata": {
    "dotnet_interactive": {
     "language": "csharp"
    },
    "polyglot_notebook": {
     "kernelName": "csharp"
    }
   },
   "outputs": [
    {
     "name": "stdout",
     "output_type": "stream",
     "text": [
      "True\n",
      "\n",
      "PeTr.ov.19_7.2.wo-rk@gmail.com.ua\n"
     ]
    }
   ],
   "source": [
    "using System.Text.RegularExpressions;\n",
    "\n",
    "string pattern = @\"^([A-Z-0-9a-z-_]+[.]{1})+([A-Z-0-9a-z-_]+)@([A-Z-0-9a-z-_]+[.]{1})+([A-Z-0-9a-z-_]{2,})\";\n",
    "\n",
    "Regex rg = new Regex(pattern);  \n",
    "  \n",
    "string mail = \"PeTr.ov.19_7.2.wo-rk@gmail.com.ua\";  \n",
    "MatchCollection matchedTimes = rg.Matches(mail);  \n",
    "\n",
    "int count = 0;\n",
    "foreach (Match match in Regex.Matches(mail, pattern))\n",
    "{\n",
    "    if (match.Value == mail)\n",
    "    {\n",
    "        count = 1;\n",
    "        Console.WriteLine(\"True\\n\");\n",
    "        Console.WriteLine(mail);\n",
    "    }\n",
    "    else\n",
    "    {\n",
    "        count = 2;\n",
    "        Console.WriteLine(\"False\");\n",
    "        break;\n",
    "    }\n",
    "}\n",
    "if (count == 0)\n",
    "{\n",
    "    Console.WriteLine(\"False\");\n",
    "}\n"
   ]
  }
 ],
 "metadata": {
  "kernelspec": {
   "display_name": ".NET (C#)",
   "language": "C#",
   "name": ".net-csharp"
  },
  "language_info": {
   "name": "polyglot-notebook"
  },
  "polyglot_notebook": {
   "kernelInfo": {
    "defaultKernelName": "csharp",
    "items": [
     {
      "aliases": [],
      "languageName": "csharp",
      "name": "csharp"
     }
    ]
   }
  }
 },
 "nbformat": 4,
 "nbformat_minor": 2
}
