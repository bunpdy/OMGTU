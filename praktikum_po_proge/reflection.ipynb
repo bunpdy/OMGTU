{
 "cells": [
  {
   "cell_type": "code",
   "execution_count": null,
   "metadata": {
    "dotnet_interactive": {
     "language": "csharp"
    },
    "polyglot_notebook": {
     "kernelName": "csharp"
    }
   },
   "outputs": [],
   "source": [
    "using System;\n",
    "using System.Reflection;\n",
    "using System.Reflection.Emit;\n",
    "\n",
    "\n",
    "void DataOutput(string dll)\n",
    "{\n",
    "    Assembly asm = Assembly.LoadFrom(dll);\n",
    "    Type[] types = asm.GetTypes();\n",
    "\n",
    "    for (int i = 0; i < types.Length; i++)\n",
    "    {\n",
    "        MethodInfo[] Methods = types[i].GetMethods(); // Атрибут BindingFlags.Public дает мало методов\n",
    "        Console.WriteLine(types[i]);\n",
    "        string res = \"\";\n",
    "        Console.WriteLine(\"\\nmethods:\");\n",
    "        foreach(var method in Methods)\n",
    "        {\n",
    "            Console.Write(method.Name + \"\\n\");\n",
    "            ParameterInfo[] Params = method.GetParameters();\n",
    "            foreach (ParameterInfo Param in Params)\n",
    "            {\n",
    "                string rtrn_type = (\"ReturnType=\" + method.ReturnType.ToString());\n",
    "                string name = (\"Param=\" + Param.Name.ToString());\n",
    "                string type = (\"Type=\" + Param.ParameterType.ToString());\n",
    "                res = string.Join(\"\\n \", new string[] {rtrn_type, name, type});\n",
    "                Console.WriteLine(\"{\"+ res + \"}\");\n",
    "            }\n",
    "        }\n",
    "        Console.WriteLine(\"\\n\");\n",
    "    }\n",
    "}\n",
    "\n",
    "DataOutput(\"core.dll\");\n"
   ]
  }
 ],
 "metadata": {
  "kernelspec": {
   "display_name": ".NET (C#)",
   "language": "C#",
   "name": ".net-csharp"
  },
  "language_info": {
   "name": "polyglot-notebook"
  },
  "polyglot_notebook": {
   "kernelInfo": {
    "defaultKernelName": "csharp",
    "items": [
     {
      "aliases": [],
      "languageName": "csharp",
      "name": "csharp"
     }
    ]
   }
  }
 },
 "nbformat": 4,
 "nbformat_minor": 2
}
