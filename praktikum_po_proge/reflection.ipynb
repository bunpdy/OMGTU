{
 "cells": [
  {
   "cell_type": "code",
   "execution_count": 133,
   "metadata": {
    "dotnet_interactive": {
     "language": "csharp"
    },
    "polyglot_notebook": {
     "kernelName": "csharp"
    }
   },
   "outputs": [
    {
     "ename": "Error",
     "evalue": "(15,22): error CS0246: Не удалось найти тип или имя пространства имен \"myType\" (возможно, отсутствует директива using или ссылка на сборку).",
     "output_type": "error",
     "traceback": [
      "(15,22): error CS0246: Не удалось найти тип или имя пространства имен \"myType\" (возможно, отсутствует директива using или ссылка на сборку)."
     ]
    }
   ],
   "source": [
    "using System;\n",
    "using System.Reflection;\n",
    "using System.Reflection.Emit;\n",
    "\n",
    "Assembly asm = Assembly.LoadFrom(\"core.dll\");\n",
    "\n",
    "Type[] types = asm.GetTypes();\n",
    "\n",
    "Type myType = Type.GetType(\"Microsoft.CodeAnalysis.EmbeddedAttribute\", false, true);\n",
    "foreach(var el in types)\n",
    "{\n",
    "    Console.WriteLine(el);\n",
    "}\n",
    "\n",
    "var methods = typeof(myType).GetMethods(System.Reflection.BindingFlags.DeclaredOnly);\n"
   ]
  },
  {
   "cell_type": "code",
   "execution_count": null,
   "metadata": {
    "dotnet_interactive": {
     "language": "csharp"
    },
    "polyglot_notebook": {
     "kernelName": "csharp"
    }
   },
   "outputs": [],
   "source": []
  },
  {
   "cell_type": "code",
   "execution_count": null,
   "metadata": {
    "dotnet_interactive": {
     "language": "csharp"
    },
    "polyglot_notebook": {
     "kernelName": "csharp"
    }
   },
   "outputs": [],
   "source": []
  }
 ],
 "metadata": {
  "kernelspec": {
   "display_name": ".NET (C#)",
   "language": "C#",
   "name": ".net-csharp"
  },
  "language_info": {
   "name": "polyglot-notebook"
  },
  "polyglot_notebook": {
   "kernelInfo": {
    "defaultKernelName": "csharp",
    "items": [
     {
      "aliases": [],
      "languageName": "csharp",
      "name": "csharp"
     }
    ]
   }
  }
 },
 "nbformat": 4,
 "nbformat_minor": 2
}
